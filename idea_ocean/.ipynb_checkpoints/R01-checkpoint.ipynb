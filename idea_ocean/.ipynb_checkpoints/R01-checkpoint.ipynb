{
 "cells": [
  {
   "cell_type": "code",
   "execution_count": 1,
   "metadata": {},
   "outputs": [],
   "source": [
    "import math\n",
    "import warnings  \n",
    "from tqdm import tqdm\n",
    "import time\n",
    "import pandas as pd\n",
    "import os\n",
    "\n",
    "import matplotlib.pyplot as plt\n",
    "plt.rcParams['font.sans-serif'] = ['Microsoft JhengHei']"
   ]
  },
  {
   "cell_type": "code",
   "execution_count": 2,
   "metadata": {},
   "outputs": [
    {
     "name": "stdout",
     "output_type": "stream",
     "text": [
      "data 目錄存在，不建立。\n",
      "vis  目錄存在，不建立。\n"
     ]
    }
   ],
   "source": [
    "lis = ['data', 'vis']\n",
    "for i in lis:\n",
    "    if os.path.isdir(i):\n",
    "        print(\"%-5s目錄存在，不建立。\"%i)\n",
    "    else:\n",
    "        os.makedirs(i)"
   ]
  },
  {
   "cell_type": "code",
   "execution_count": 3,
   "metadata": {},
   "outputs": [],
   "source": [
    "filename = './data/train.csv'\n",
    "df = pd.read_csv(filename)"
   ]
  },
  {
   "cell_type": "markdown",
   "metadata": {},
   "source": [
    "## Note\n",
    "- y = LEVEL"
   ]
  },
  {
   "cell_type": "code",
   "execution_count": 4,
   "metadata": {},
   "outputs": [
    {
     "data": {
      "text/plain": [
       "<matplotlib.axes._subplots.AxesSubplot at 0x7fc3587cbcd0>"
      ]
     },
     "execution_count": 4,
     "metadata": {},
     "output_type": "execute_result"
    },
    {
     "data": {
      "image/png": "[encoded data removed]",
      "text/plain": [
       "<Figure size 432x288 with 1 Axes>"
      ]
     },
     "metadata": {
      "needs_background": "light"
     },
     "output_type": "display_data"
    }
   ],
   "source": [
    "df_col = df['LEVEL']\n",
    "\n",
    "label_count = df_col.value_counts()\n",
    "label_element = label_count.index\n",
    "\n",
    "tmp = pd.DataFrame({'element':label_element, 'count':label_count})\n",
    "tmp.plot.bar(x = 'element', y = 'count', rot=0)"
   ]
  },
  {
   "cell_type": "code",
   "execution_count": 5,
   "metadata": {},
   "outputs": [
    {
     "name": "stdout",
     "output_type": "stream",
     "text": [
      "[dtype('O') dtype('int64') dtype('float64')]\n"
     ]
    }
   ],
   "source": [
    "print(df.dtypes.unique())\n",
    "df.dtypes[df.dtypes == df.dtypes.unique()[0]]\n",
    " \n",
    "df_type_group = dict()\n",
    "for i in df.dtypes.unique():\n",
    "    df_type_group[str(i)] = df.loc[:, df.dtypes == i]\n",
    "    \n",
    "# df_type_group"
   ]
  },
  {
   "cell_type": "code",
   "execution_count": 6,
   "metadata": {},
   "outputs": [
    {
     "data": {
      "text/plain": [
       "7     51\n",
       "6     48\n",
       "2     46\n",
       "5     43\n",
       "8     34\n",
       "3     29\n",
       "4     28\n",
       "9     20\n",
       "1     11\n",
       "10     9\n",
       "Name: LEVEL, dtype: int64"
      ]
     },
     "execution_count": 6,
     "metadata": {},
     "output_type": "execute_result"
    },
    {
     "data": {
      "image/png": "[encoded data removed]",
      "text/plain": [
       "<Figure size 432x288 with 1 Axes>"
      ]
     },
     "metadata": {
      "needs_background": "light"
     },
     "output_type": "display_data"
    }
   ],
   "source": [
    "import matplotlib.pyplot as plt\n",
    "def column_unique_count(df_col):\n",
    "    y = df_col.value_counts()\n",
    "    x = y.index\n",
    "        \n",
    "    plt.bar(x , y)\n",
    "    plt.xticks(x, x, rotation='horizontal')\n",
    "    plt.xlabel(df_col.name)\n",
    "    plt.ylabel('count')\n",
    "    return y\n",
    "column_unique_count(df['LEVEL'])\n"
   ]
  },
  {
   "cell_type": "markdown",
   "metadata": {},
   "source": [
    "## Note\n",
    "- 先EDA名目尺度(object)，考慮要不要one-hot，或是做label encoding。\n",
    "- EDA項目: \n",
    " - print: 眾數"
   ]
  },
  {
   "cell_type": "code",
   "execution_count": 7,
   "metadata": {},
   "outputs": [
    {
     "data": {
      "text/html": [
       "<div>\n",
       "<style scoped>\n",
       "    .dataframe tbody tr th:only-of-type {\n",
       "        vertical-align: middle;\n",
       "    }\n",
       "\n",
       "    .dataframe tbody tr th {\n",
       "        vertical-align: top;\n",
       "    }\n",
       "\n",
       "    .dataframe thead th {\n",
       "        text-align: right;\n",
       "    }\n",
       "</style>\n",
       "<table border=\"1\" class=\"dataframe\">\n",
       "  <thead>\n",
       "    <tr style=\"text-align: right;\">\n",
       "      <th></th>\n",
       "      <th>Station</th>\n",
       "      <th>County</th>\n",
       "      <th>Location</th>\n",
       "    </tr>\n",
       "  </thead>\n",
       "  <tbody>\n",
       "    <tr>\n",
       "      <th>0</th>\n",
       "      <td>E02</td>\n",
       "      <td>宜蘭縣</td>\n",
       "      <td>大溪</td>\n",
       "    </tr>\n",
       "    <tr>\n",
       "      <th>1</th>\n",
       "      <td>E02</td>\n",
       "      <td>宜蘭縣</td>\n",
       "      <td>大溪</td>\n",
       "    </tr>\n",
       "    <tr>\n",
       "      <th>2</th>\n",
       "      <td>E02</td>\n",
       "      <td>宜蘭縣</td>\n",
       "      <td>大溪</td>\n",
       "    </tr>\n",
       "    <tr>\n",
       "      <th>3</th>\n",
       "      <td>E02</td>\n",
       "      <td>宜蘭縣</td>\n",
       "      <td>大溪</td>\n",
       "    </tr>\n",
       "    <tr>\n",
       "      <th>4</th>\n",
       "      <td>E03</td>\n",
       "      <td>宜蘭縣</td>\n",
       "      <td>頭城</td>\n",
       "    </tr>\n",
       "    <tr>\n",
       "      <th>...</th>\n",
       "      <td>...</td>\n",
       "      <td>...</td>\n",
       "      <td>...</td>\n",
       "    </tr>\n",
       "    <tr>\n",
       "      <th>314</th>\n",
       "      <td>TT02</td>\n",
       "      <td>台東縣長濱鄉中成</td>\n",
       "      <td>長光</td>\n",
       "    </tr>\n",
       "    <tr>\n",
       "      <th>315</th>\n",
       "      <td>TT03</td>\n",
       "      <td>台東縣長濱鄉</td>\n",
       "      <td>白桑安</td>\n",
       "    </tr>\n",
       "    <tr>\n",
       "      <th>316</th>\n",
       "      <td>TT03</td>\n",
       "      <td>台東縣長濱鄉</td>\n",
       "      <td>白桑安/長濱觀景平台</td>\n",
       "    </tr>\n",
       "    <tr>\n",
       "      <th>317</th>\n",
       "      <td>TT03</td>\n",
       "      <td>台東縣長濱鄉</td>\n",
       "      <td>白桑安/長濱觀景平台</td>\n",
       "    </tr>\n",
       "    <tr>\n",
       "      <th>318</th>\n",
       "      <td>TT03</td>\n",
       "      <td>台東縣長濱鄉</td>\n",
       "      <td>寜埔</td>\n",
       "    </tr>\n",
       "  </tbody>\n",
       "</table>\n",
       "<p>319 rows × 3 columns</p>\n",
       "</div>"
      ],
      "text/plain": [
       "    Station    County    Location\n",
       "0       E02       宜蘭縣          大溪\n",
       "1       E02       宜蘭縣          大溪\n",
       "2       E02       宜蘭縣          大溪\n",
       "3       E02       宜蘭縣          大溪\n",
       "4       E03       宜蘭縣          頭城\n",
       "..      ...       ...         ...\n",
       "314    TT02  台東縣長濱鄉中成          長光\n",
       "315    TT03    台東縣長濱鄉         白桑安\n",
       "316    TT03    台東縣長濱鄉  白桑安/長濱觀景平台\n",
       "317    TT03    台東縣長濱鄉  白桑安/長濱觀景平台\n",
       "318    TT03    台東縣長濱鄉          寜埔\n",
       "\n",
       "[319 rows x 3 columns]"
      ]
     },
     "execution_count": 7,
     "metadata": {},
     "output_type": "execute_result"
    }
   ],
   "source": [
    "type(df_type_group['object'])\n",
    "df_type_group['object']"
   ]
  },
  {
   "cell_type": "code",
   "execution_count": 19,
   "metadata": {},
   "outputs": [
    {
     "name": "stdout",
     "output_type": "stream",
     "text": [
      "\n"
     ]
    },
    {
     "data": {
      "text/plain": [
       "M22     4\n",
       "N19     4\n",
       "SE12    4\n",
       "M10     4\n",
       "SW01    4\n",
       "       ..\n",
       "E02     4\n",
       "N07     4\n",
       "N01     4\n",
       "TT02    4\n",
       "M17     3\n",
       "Name: Station, Length: 80, dtype: int64"
      ]
     },
     "execution_count": 19,
     "metadata": {},
     "output_type": "execute_result"
    },
    {
     "data": {
      "image/png": "[encoded data removed]",
      "text/plain": [
       "<Figure size 432x288 with 1 Axes>"
      ]
     },
     "metadata": {
      "needs_background": "light"
     },
     "output_type": "display_data"
    }
   ],
   "source": [
    "import matplotlib.pyplot as plt\n",
    "def column_unique_count(df_col):\n",
    "    y = df_col.value_counts()\n",
    "    x = y.index\n",
    "    print()\n",
    "    plt.bar(x , y)\n",
    "    plt.xticks(x, x, rotation=75)\n",
    "    plt.xlabel(df_col.name)\n",
    "    plt.ylabel('count')\n",
    "    return y\n",
    "column_unique_count(df['Station'])"
   ]
  },
  {
   "cell_type": "code",
   "execution_count": 33,
   "metadata": {},
   "outputs": [
    {
     "name": "stdout",
     "output_type": "stream",
     "text": [
      "count     319\n",
      "unique     80\n",
      "top       M22\n",
      "freq        4\n",
      "Name: Station, dtype: object\n",
      "4.0\n",
      "count     319\n",
      "unique     63\n",
      "top       宜蘭縣\n",
      "freq       24\n",
      "Name: County, dtype: object\n",
      "4.0\n",
      "count     319\n",
      "unique     88\n",
      "top        和仁\n",
      "freq        4\n",
      "Name: Location, dtype: object\n",
      "4.0\n"
     ]
    }
   ],
   "source": [
    "tmp = df_type_group['object'].copy()\n",
    "# tmp.mode(axis = 1)[0\n",
    "\n",
    "for i in tmp.columns:\n",
    "#     print(tmp[i].value_counts().index[0])\n",
    "#     print('眾數 of '+i+': ',  tmp[i].value_counts().index[0], tmp[i].value_counts()[0],'/',tmp[i].count())\n",
    "    print(tmp[i].describe())\n",
    "    print(tmp[i].value_counts().median())\n",
    "#     plt.figure(12, figsize=(8,6))\n",
    "#     print(tmp[i].value_counts())\n",
    "#     column_unique_count(tmp[i])\n",
    "#     plt.show()"
   ]
  },
  {
   "cell_type": "code",
   "execution_count": null,
   "metadata": {},
   "outputs": [],
   "source": [
    "tmp"
   ]
  },
  {
   "cell_type": "code",
   "execution_count": null,
   "metadata": {},
   "outputs": [],
   "source": []
  },
  {
   "cell_type": "raw",
   "metadata": {},
   "source": [
    "plt.text(0.5, 0.5, 'too many element', horizontalalignment='center', \n",
    "     verticalalignment='center')"
   ]
  },
  {
   "cell_type": "code",
   "execution_count": null,
   "metadata": {},
   "outputs": [],
   "source": [
    "def count_all_columns(df):\n",
    "    tmp = df.copy()\n",
    "    plt.figure(12, figsize=(28,25))\n",
    "    \n",
    "    \n",
    "    a = len(tmp.columns)\n",
    "    col = math.ceil(a**0.5)\n",
    "\n",
    "    warnings.filterwarnings('ignore')\n",
    "    bar_else = []\n",
    "\n",
    "    for i in tqdm(range(1,a)):\n",
    "        \n",
    "        plt.subplot(col, col, i)\n",
    "\n",
    "        if len(df.iloc[:,i].unique())<=50:\n",
    "            column_unique_count(tmp.iloc[:,i])\n",
    "        else: \n",
    "            plt.text(0.5, 0.5, 'too many element', horizontalalignment='center', \n",
    "         verticalalignment='center')\n",
    "            bar_else.append(df.iloc[:,i].name)\n",
    "            pass\n",
    "\n",
    "    print(bar_else)\n",
    "    plt.show()\n",
    "    return(bar_else)\n",
    "    \n",
    "# non_cat_col = count_all_columns(df)"
   ]
  },
  {
   "cell_type": "code",
   "execution_count": null,
   "metadata": {},
   "outputs": [],
   "source": [
    "# ecdf\n",
    "df.loc[:,non_cat_col]"
   ]
  },
  {
   "cell_type": "code",
   "execution_count": null,
   "metadata": {},
   "outputs": [],
   "source": [
    "df.describe().columns"
   ]
  },
  {
   "cell_type": "code",
   "execution_count": null,
   "metadata": {},
   "outputs": [],
   "source": []
  }
 ],
 "metadata": {
  "kernelspec": {
   "display_name": "Python 3",
   "language": "python",
   "name": "python3"
  },
  "language_info": {
   "codemirror_mode": {
    "name": "ipython",
    "version": 3
   },
   "file_extension": ".py",
   "mimetype": "text/x-python",
   "name": "python",
   "nbconvert_exporter": "python",
   "pygments_lexer": "ipython3",
   "version": "3.7.6"
  }
 },
 "nbformat": 4,
 "nbformat_minor": 4
}
